version https://git-lfs.github.com/spec/v1
oid sha256:ec6bc0300e87b86908bb5047f6f2d31031496f2765c2290b3a02a177d5e049a2
size 74564
