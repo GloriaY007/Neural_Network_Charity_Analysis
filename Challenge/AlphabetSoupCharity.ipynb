version https://git-lfs.github.com/spec/v1
oid sha256:0ba9480f3379729f6b3900821b1b55842c76bd1dd7cc9fb598a1e9bbb603c012
size 91854
