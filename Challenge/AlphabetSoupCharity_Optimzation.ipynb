version https://git-lfs.github.com/spec/v1
oid sha256:c0e4943ee90c3353864095149de0f071e4782b3dc430aa4e983bb5e330ffccfe
size 92160
